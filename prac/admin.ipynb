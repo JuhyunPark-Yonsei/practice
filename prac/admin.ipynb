{
 "cells": [
  {
   "cell_type": "code",
   "execution_count": null,
   "metadata": {},
   "outputs": [],
   "source": [
    "from django.contrib import adminfrom .models import Post, GameUseradmin.site.register(Post)admin.site.register(GameUser)"
   ]
  }
 ],
 "metadata": {
  "language": "python"
 },
 "nbformat": 4,
 "nbformat_minor": 2
}
